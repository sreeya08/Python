{
 "cells": [
  {
   "cell_type": "code",
   "execution_count": 1,
   "id": "e1129a5b-985d-4ebc-a7f6-a4edb3ab9b8e",
   "metadata": {},
   "outputs": [
    {
     "name": "stdout",
     "output_type": "stream",
     "text": [
      "Hello, Sreeya!\n"
     ]
    }
   ],
   "source": [
    "print(\"Hello, Sreeya!\")"
   ]
  },
  {
   "cell_type": "code",
   "execution_count": 1,
   "id": "978b95dc-e0d3-4352-9692-a288abbb285b",
   "metadata": {},
   "outputs": [
    {
     "name": "stdout",
     "output_type": "stream",
     "text": [
      "hi how are you\n"
     ]
    }
   ],
   "source": [
    "print(\"hi how are you\")"
   ]
  },
  {
   "cell_type": "code",
   "execution_count": null,
   "id": "e46cb54d-8258-4ab4-a4d9-cfda0b414e8a",
   "metadata": {},
   "outputs": [],
   "source": []
  }
 ],
 "metadata": {
  "kernelspec": {
   "display_name": "Python 3 (ipykernel)",
   "language": "python",
   "name": "python3"
  },
  "language_info": {
   "codemirror_mode": {
    "name": "ipython",
    "version": 3
   },
   "file_extension": ".py",
   "mimetype": "text/x-python",
   "name": "python",
   "nbconvert_exporter": "python",
   "pygments_lexer": "ipython3",
   "version": "3.11.9"
  }
 },
 "nbformat": 4,
 "nbformat_minor": 5
}
